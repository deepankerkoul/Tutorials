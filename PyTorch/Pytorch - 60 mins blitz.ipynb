{
 "cells": [
  {
   "cell_type": "markdown",
   "metadata": {},
   "source": [
    "This notebook is part of my Learn PyTorch Project. The expected flow of notebooks is as follows:\n",
    "  * **Getting Started**\n",
    "Deep Learning with PyTorch: A 60 Minute Blitz\n",
    "Writing Custom Datasets, DataLoaders and Transforms\n",
    "Visualizing Models, Data, and Training with TensorBoard\n",
    "  * **Image**\n",
    "TorchVision Object Detection Finetuning Tutorial\n",
    "Transfer Learning for Computer Vision Tutorial\n",
    "Spatial Transformer Networks Tutorial\n",
    "Neural Transfer Using PyTorch\n",
    "Adversarial Example Generation\n",
    "DCGAN Tutorial\n",
    "  * **Audio**\n",
    "torchaudio Tutorial\n",
    "  * **Text**\n",
    "NLP From Scratch: Classifying Names with a Character-Level RNN\n",
    "NLP From Scratch: Generating Names with a Character-Level RNN\n",
    "NLP From Scratch: Translation with a Sequence to Sequence Network and Attention\n",
    "Text Classification with TorchText\n",
    "Language Translation with TorchText\n",
    "Sequence-to-Sequence Modeling with nn.Transformer and TorchText\n",
    "  * **Named Tensor (experimental)**\n",
    "(experimental) Introduction to Named Tensors in PyTorch\n",
    "  * **Reinforcement Learning**\n",
    "Reinforcement Learning (DQN) Tutorial\n",
    "  * **Deploying PyTorch Models in Production**\n",
    "Deploying PyTorch in Python via a REST API with Flask\n",
    "Introduction to TorchScript\n",
    "Loading a TorchScript Model in C++\n",
    "(optional) Exporting a Model from PyTorch to ONNX and Running it using ONNX Runtime\n",
    "  * **Parallel and Distributed Training**\n",
    "Model Parallel Best Practices\n",
    "Getting Started with Distributed Data Parallel\n",
    "Writing Distributed Applications with PyTorch\n",
    "(advanced) PyTorch 1.0 Distributed Trainer with Amazon AWS\n",
    "  * **Extending PyTorch**\n",
    "Extending TorchScript with Custom C++ Operators\n",
    "Creating Extensions Using numpy and scipy\n",
    "Custom C++ and CUDA Extensions\n",
    "  * **Quantization (experimental)**\n",
    "(experimental) Dynamic Quantization on an LSTM Word Language Model\n",
    "(experimental) Static Quantization with Eager Mode in PyTorch\n",
    "  * **PyTorch in Other Languages**\n",
    "Using the PyTorch C++ Frontend\n",
    "  * **PyTorch Fundamentals In-Depth**\n",
    "Learning PyTorch with Examples\n",
    "What is torch.nn really?  "
   ]
  }
 ],
 "metadata": {
  "kernelspec": {
   "display_name": "PyTutes",
   "language": "python",
   "name": "pytutes"
  },
  "language_info": {
   "codemirror_mode": {
    "name": "ipython",
    "version": 3
   },
   "file_extension": ".py",
   "mimetype": "text/x-python",
   "name": "python",
   "nbconvert_exporter": "python",
   "pygments_lexer": "ipython3",
   "version": "3.6.4"
  }
 },
 "nbformat": 4,
 "nbformat_minor": 2
}
