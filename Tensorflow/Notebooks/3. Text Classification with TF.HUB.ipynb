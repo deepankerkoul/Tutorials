{
 "cells": [
  {
   "cell_type": "markdown",
   "metadata": {},
   "source": [
    "This is the first notebook in the learning tensorflow series based on the tensorflow documentation. The flow of notebooks/topics is as follows:\n",
    "\n",
    "**1. Quickstart for Beginners**\n",
    "\n",
    "## Beginner\n",
    "* **ML Basics with Keras**\n",
    "  2. Basic Image Classification **[We are here]**\n",
    "  3. Text classification with TF.Hub\n",
    "  4. Text classification with preprocessed text\n",
    "  5. Regression\n",
    "  6. Overfil and underfit\n",
    "  7. Save and load\n",
    "  \n",
    "  \n",
    "* **Load and Preprocess Data**\n",
    "  8. CSV\n",
    "  9. NumPy\n",
    "  10. pandas.DataFrame\n",
    "  11. Images\n",
    "  12. Text\n",
    "  13. Unicode\n",
    "  14. TF.Text\n",
    "  15. TFRecord and tf.Example\n",
    "  \n",
    "  \n",
    "* **Estimator**\n",
    "  16. Premade estimator\n",
    "  17. Linear model\n",
    "  18. Boosted trees\n",
    "  19. Boosted trees model understanding\n",
    "  20. Keras model to Estimator\n",
    "\n",
    "\n",
    "**20. Quickstart for Experts**\n",
    "\n",
    "\n",
    "* **Customization**\n",
    "  21. Tensors and operations\n",
    "  22. Custom layers\n",
    "  23. Automatic differentiation\n",
    "  24. Custom training\n",
    "  25. Custom training: walkthrough\n",
    "  26. Performance with tf.function\n",
    "\n",
    "\n",
    "* **Distributed training**\n",
    "  27. Distributed training with Keras\n",
    "  28. Custom training loops\n",
    "  29. Multi-worker training with Keras\n",
    "  30. Multi-worker training with Estimator\n",
    "  31. Save and load\n",
    "  \n",
    "  \n",
    "* **Images**\n",
    "  32. Convolutional Neural Network\n",
    "  33. Image Classification\n",
    "  34. Transfer Learning with TF.Hub\n",
    "  35. Transfer Learning with pretrained CNN\n",
    "  36. Image Segmentation\n",
    "  37. Object Detection with TFHub\n",
    "  \n",
    "  \n",
    "* **Text**\n",
    "  38. Word Embeddings\n",
    "  39. Text Classification with an RNN\n",
    "  40. Text generation with an RNN\n",
    "  41. Neural Machine Translation with Attention\n",
    "  42. Image Captioning\n",
    "  43. Transformer Model for Language Understanding\n",
    "  \n",
    "  \n",
    "* **Structured Data**\n",
    "  44. Classify Structured Data with Feature COlumns\n",
    "  45. Classification on Imbalanced Data\n",
    "  46. Time Series Forecasting\n",
    "  \n",
    "  \n",
    "* **Generative**\n",
    "  47. Neural Style Transfer\n",
    "  48. DeepDream\n",
    "  49. DCGAN\n",
    "  50. Pix2Pix\n",
    "  51. CycleGAN\n",
    "  52. Adversarial FGSM\n",
    "  53. Variational Autoencoder"
   ]
  },
  {
   "cell_type": "code",
   "execution_count": null,
   "metadata": {},
   "outputs": [],
   "source": []
  },
  {
   "cell_type": "code",
   "execution_count": null,
   "metadata": {},
   "outputs": [],
   "source": []
  },
  {
   "cell_type": "code",
   "execution_count": null,
   "metadata": {},
   "outputs": [],
   "source": []
  },
  {
   "cell_type": "code",
   "execution_count": null,
   "metadata": {},
   "outputs": [],
   "source": []
  },
  {
   "cell_type": "code",
   "execution_count": null,
   "metadata": {},
   "outputs": [],
   "source": []
  },
  {
   "cell_type": "code",
   "execution_count": null,
   "metadata": {},
   "outputs": [],
   "source": []
  },
  {
   "cell_type": "code",
   "execution_count": null,
   "metadata": {},
   "outputs": [],
   "source": []
  },
  {
   "cell_type": "code",
   "execution_count": null,
   "metadata": {},
   "outputs": [],
   "source": []
  },
  {
   "cell_type": "code",
   "execution_count": null,
   "metadata": {},
   "outputs": [],
   "source": []
  }
 ],
 "metadata": {
  "kernelspec": {
   "display_name": "PyTutes",
   "language": "python",
   "name": "pytutes"
  },
  "language_info": {
   "codemirror_mode": {
    "name": "ipython",
    "version": 3
   },
   "file_extension": ".py",
   "mimetype": "text/x-python",
   "name": "python",
   "nbconvert_exporter": "python",
   "pygments_lexer": "ipython3",
   "version": "3.6.4"
  }
 },
 "nbformat": 4,
 "nbformat_minor": 2
}
